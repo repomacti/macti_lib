{
 "cells": [
  {
   "cell_type": "code",
   "execution_count": 1,
   "id": "4e4572d4-3938-4458-ba93-dfaba990720a",
   "metadata": {},
   "outputs": [],
   "source": [
    "import os"
   ]
  },
  {
   "cell_type": "code",
   "execution_count": 2,
   "id": "d7171f7d-68f1-4a55-84af-aaceffab0ba7",
   "metadata": {},
   "outputs": [],
   "source": [
    "server_path = \"/usr/local/share/nbgrader/exchange/\""
   ]
  },
  {
   "cell_type": "code",
   "execution_count": 19,
   "id": "012dc84a-3064-4909-a959-1580789fcf22",
   "metadata": {},
   "outputs": [
    {
     "name": "stdout",
     "output_type": "stream",
     "text": [
      "/Users/luiggi/GitSites/macti_lib/src/macti\n",
      "macti\n",
      "resources\n"
     ]
    }
   ],
   "source": [
    "cp, to = os.path.split(os.getcwd())\n",
    "\n",
    "print(cp)\n",
    "print(cn)\n",
    "print(to)"
   ]
  },
  {
   "cell_type": "code",
   "execution_count": 22,
   "id": "f6ff4e8d-4475-4ce9-81d7-543f18b009c8",
   "metadata": {},
   "outputs": [
    {
     "name": "stdout",
     "output_type": "stream",
     "text": [
      "/Users/luiggi/GitSites/macti_lib/src/macti/.ans/resources\n"
     ]
    }
   ],
   "source": [
    "server = \"local\"\n",
    "if server == \"local\":\n",
    "    ans_path = os.path.join(cp, \".ans\", to)\n",
    "elif server == \"hub\":\n",
    "    _, cn = os.path.split(cp)\n",
    "    ans_path = os.path.join(server_path, cn, \".ans\", to)\n",
    "\n",
    "print(ans_path)"
   ]
  },
  {
   "cell_type": "code",
   "execution_count": 23,
   "id": "1624b40e-1763-4975-a6b5-ab062ffa9b53",
   "metadata": {},
   "outputs": [
    {
     "name": "stdout",
     "output_type": "stream",
     "text": [
      "/Users/luiggi/GitSites/macti_lib/src/macti/.ans/resources\n"
     ]
    }
   ],
   "source": [
    "ans_path = os.path.join(cp, \".ans\", to)\n",
    "print(ans_path)"
   ]
  },
  {
   "cell_type": "code",
   "execution_count": 30,
   "id": "eb4337a4-e7bc-411e-8967-8d19eb41adac",
   "metadata": {},
   "outputs": [
    {
     "name": "stdout",
     "output_type": "stream",
     "text": [
      "/Users/luiggi/GitSites/macti_lib/src/macti/.ans/resources/.__ans_1\n"
     ]
    }
   ],
   "source": [
    "qnum = \"1\"\n",
    "ans_filename = os.path.join(ans_path, '.__ans_' + qnum)\n",
    "print(ans_filename)"
   ]
  },
  {
   "cell_type": "code",
   "execution_count": null,
   "id": "c14a1aed-f63a-4bb6-ac64-e6ace4ad3961",
   "metadata": {},
   "outputs": [],
   "source": []
  }
 ],
 "metadata": {
  "kernelspec": {
   "display_name": "Python 3 (ipykernel)",
   "language": "python",
   "name": "python3"
  },
  "language_info": {
   "codemirror_mode": {
    "name": "ipython",
    "version": 3
   },
   "file_extension": ".py",
   "mimetype": "text/x-python",
   "name": "python",
   "nbconvert_exporter": "python",
   "pygments_lexer": "ipython3",
   "version": "3.12.3"
  }
 },
 "nbformat": 4,
 "nbformat_minor": 5
}
