{
 "cells": [
  {
   "cell_type": "markdown",
   "id": "96b6f51e-6db0-4433-a259-3e8584d638d0",
   "metadata": {
    "nbgrader": {
     "grade": false,
     "grade_id": "cell-35c899b880ea5723",
     "locked": true,
     "schema_version": 3,
     "solution": false,
     "task": false
    }
   },
   "source": [
    "# Plantilla quizz\n",
    "\n",
    "**Objetivo.**\n",
    "Escribir un objetivo claro y conciso.\n",
    "\n",
    " <p xmlns:cc=\"http://creativecommons.org/ns#\" xmlns:dct=\"http://purl.org/dc/terms/\"><a property=\"dct:title\" rel=\"cc:attributionURL\" href=\"https://github.com/repomacti/macti/tree/main/plantillas\">MACTI-Plantillas</a> by <a rel=\"cc:attributionURL dct:creator\" property=\"cc:attributionName\" href=\"https://www.macti.unam.mx\">Luis M. de la Cruz</a> is licensed under <a href=\"http://creativecommons.org/licenses/by-sa/4.0/?ref=chooser-v1\" target=\"_blank\" rel=\"license noopener noreferrer\" style=\"display:inline-block;\">Attribution-ShareAlike 4.0 International<img style=\"height:22px!important;margin-left:3px;vertical-align:text-bottom;\" src=\"https://mirrors.creativecommons.org/presskit/icons/cc.svg?ref=chooser-v1\"><img style=\"height:22px!important;margin-left:3px;vertical-align:text-bottom;\" src=\"https://mirrors.creativecommons.org/presskit/icons/by.svg?ref=chooser-v1\"><img style=\"height:22px!important;margin-left:3px;vertical-align:text-bottom;\" src=\"https://mirrors.creativecommons.org/presskit/icons/sa.svg?ref=chooser-v1\"></a></p> \n"
   ]
  },
  {
   "cell_type": "markdown",
   "id": "631103ec-189f-42f3-add4-1a13d9912bce",
   "metadata": {
    "nbgrader": {
     "grade": false,
     "grade_id": "cell-abba7f3dc8061ee2",
     "locked": true,
     "schema_version": 3,
     "solution": false,
     "task": false
    }
   },
   "source": [
    "## Importamos bibliotecas"
   ]
  },
  {
   "cell_type": "code",
   "execution_count": 1,
   "id": "8e0dca5a-e378-426c-b756-cb6df49d35c4",
   "metadata": {
    "nbgrader": {
     "grade": false,
     "grade_id": "cell-9776bd9e148471b9",
     "locked": true,
     "schema_version": 3,
     "solution": false,
     "task": false
    },
    "tags": []
   },
   "outputs": [],
   "source": [
    "import numpy as np\n",
    "import matplotlib.pyplot as plt\n",
    "import sympy\n",
    "import macti.vis as mvis\n",
    "from macti.eval import *"
   ]
  },
  {
   "cell_type": "markdown",
   "id": "a17e3ddd-de3f-4d7d-83cb-8cb4972236a8",
   "metadata": {
    "nbgrader": {
     "grade": false,
     "grade_id": "cell-d305b21a9003b1e8",
     "locked": true,
     "schema_version": 3,
     "solution": false,
     "task": false
    }
   },
   "source": [
    "## Números (`eval_numeric()`)\n",
    "\n",
    "<div class=\"alert alert-success\">\n",
    "\n",
    "## Ejercicio 1.\n",
    "\n",
    "Calcula lo siguiente:\n",
    "\n",
    "* $error = |3.4 - 8.5|$\n",
    "* Parte entera de $i = \\dfrac{365}{12}$\n",
    "* $c1 = (2 + 3i)$, $c2 = (3.4 - 2i)$, $c = c1 * c2$\n",
    "* ¿Son iguales $c1$ y $c2$?\n",
    "\n",
    "</div>"
   ]
  },
  {
   "cell_type": "code",
   "execution_count": 2,
   "id": "0f8f19f5-19f9-42d6-b1ef-fa2bef8c0f3a",
   "metadata": {
    "nbgrader": {
     "grade": false,
     "grade_id": "cell-4d922f51fe44990b",
     "locked": false,
     "schema_version": 3,
     "solution": true,
     "task": false
    }
   },
   "outputs": [
    {
     "name": "stdout",
     "output_type": "stream",
     "text": [
      "Creando el directorio :/Users/luiggi/GitSites/macti_lib/src/macti/.ans/resources/\n",
      "Respuestas y retroalimentación almacenadas.\n",
      "5.1\n",
      "30\n",
      "(12.8+6.199999999999999j)\n",
      "False\n"
     ]
    }
   ],
   "source": [
    "# error = ..\n",
    "# i = ...\n",
    "# c1 = ...\n",
    "# c2 = ...\n",
    "# c = ...\n",
    "# iguales = ...\n",
    "\n",
    "### BEGIN SOLUTION\n",
    "\n",
    "# Reales\n",
    "error = np.abs(3.4 - 8.5)\n",
    "\n",
    "# Enteros\n",
    "i = 365 // 12\n",
    "\n",
    "# Complejos\n",
    "c1 = 2. + 3j\n",
    "c2 = 3.4 - 2j\n",
    "c = c1 * c2\n",
    "\n",
    "# Comparación\n",
    "iguales = c1 == c2\n",
    "\n",
    "# Se crea un objeto para guardar las respuestas, solo una vez.\n",
    "file_answer = FileAnswer() \n",
    "#file_answer.verb = 0\n",
    "\n",
    "file_answer.write('1', error, 'El error se debería calcular ...')\n",
    "file_answer.write('2', i, 'La división entera se puede calcular ...')\n",
    "file_answer.write('3', c1, 'El número complejo c1 ...')\n",
    "file_answer.write('4', c2, 'El número complejo c2 ...')\n",
    "file_answer.write('5', c, 'La multiplicación de dos número complejos ...')\n",
    "file_answer.write('6', iguales, 'Para comparar dos números ...')\n",
    "\n",
    "file_answer.to_file('1') \n",
    "### END SOLUTION\n",
    "\n",
    "print(error)\n",
    "print(i)\n",
    "print(c)\n",
    "print(iguales)"
   ]
  },
  {
   "cell_type": "code",
   "execution_count": 3,
   "id": "d7b64f4c-f017-44d8-9a8c-a001f2aac53c",
   "metadata": {},
   "outputs": [],
   "source": [
    "quiz = Quiz('1', 'macti', 'local')"
   ]
  },
  {
   "cell_type": "code",
   "execution_count": 4,
   "id": "4e4d264d-7e88-4c87-8428-d69115929961",
   "metadata": {
    "nbgrader": {
     "grade": true,
     "grade_id": "cell-015089c87aa66234",
     "locked": true,
     "points": 1,
     "schema_version": 3,
     "solution": false,
     "task": false
    }
   },
   "outputs": [
    {
     "name": "stdout",
     "output_type": "stream",
     "text": [
      "\u001b[39m――――――――――――――――――――――――――――――――――――――――\n",
      "\u001b[32m1 | Tu resultado es correcto.\n",
      "\u001b[39m――――――――――――――――――――――――――――――――――――――――\n"
     ]
    }
   ],
   "source": [
    "quiz.eval_numeric('1', error)"
   ]
  },
  {
   "cell_type": "code",
   "execution_count": null,
   "id": "36aa4614-c551-4034-a588-70c148d9d430",
   "metadata": {
    "nbgrader": {
     "grade": true,
     "grade_id": "cell-b1bf377cbf6ffeea",
     "locked": true,
     "points": 1,
     "schema_version": 3,
     "solution": false,
     "task": false
    }
   },
   "outputs": [],
   "source": [
    "quiz.eval_numeric('2', i)"
   ]
  },
  {
   "cell_type": "code",
   "execution_count": null,
   "id": "5c755b67-86b5-43b2-a820-a4b107818017",
   "metadata": {
    "nbgrader": {
     "grade": true,
     "grade_id": "cell-400d5215941995d4",
     "locked": true,
     "points": 1,
     "schema_version": 3,
     "solution": false,
     "task": false
    }
   },
   "outputs": [],
   "source": [
    "quiz.eval_numeric('3', c1)"
   ]
  },
  {
   "cell_type": "code",
   "execution_count": null,
   "id": "4a4fcae8-a671-4165-acb5-93afc9d5feeb",
   "metadata": {
    "nbgrader": {
     "grade": true,
     "grade_id": "cell-5af7aad0def58c33",
     "locked": true,
     "points": 1,
     "schema_version": 3,
     "solution": false,
     "task": false
    }
   },
   "outputs": [],
   "source": [
    "quiz.eval_numeric('4', c2)"
   ]
  },
  {
   "cell_type": "code",
   "execution_count": null,
   "id": "d33f1982-93fa-41e9-a3b0-5ba7462d0bff",
   "metadata": {
    "nbgrader": {
     "grade": true,
     "grade_id": "cell-fb3ec04c35a17138",
     "locked": true,
     "points": 1,
     "schema_version": 3,
     "solution": false,
     "task": false
    }
   },
   "outputs": [],
   "source": [
    "quiz.eval_numeric('5', c)"
   ]
  },
  {
   "cell_type": "code",
   "execution_count": null,
   "id": "76ad05d0-71d3-494c-9e73-3d0ba9de2538",
   "metadata": {
    "nbgrader": {
     "grade": true,
     "grade_id": "cell-e62b3930cebda218",
     "locked": true,
     "points": 1,
     "schema_version": 3,
     "solution": false,
     "task": false
    }
   },
   "outputs": [],
   "source": [
    "quiz.eval_numeric('6', iguales)"
   ]
  },
  {
   "cell_type": "markdown",
   "id": "40a7068c-e3be-487b-aa00-6bf1861e8d6c",
   "metadata": {
    "nbgrader": {
     "grade": false,
     "grade_id": "cell-14a9624ccdb0a7ec",
     "locked": true,
     "schema_version": 3,
     "solution": false,
     "task": false
    }
   },
   "source": [
    "## Arreglos numéricos (`eval_numeric()`)\n",
    "<div class=\"alert alert-success\">\n",
    "\n",
    "## Ejercicio 2.\n",
    "\n",
    "Escribe un código para calcular la función $f(t) = \\sin(t)$ para $t\\in [-2\\pi, 2\\pi]$, usando funciones de la biblioteca `numpy` y grafica la función $f(t)$ para un conjunto de 45 puntos.\n",
    "\n",
    "</div>"
   ]
  },
  {
   "cell_type": "code",
   "execution_count": null,
   "id": "7a149ddb-26bb-4461-a2b6-b8e58c7d8417",
   "metadata": {
    "nbgrader": {
     "grade": false,
     "grade_id": "cell-16c40011237dc532",
     "locked": false,
     "schema_version": 3,
     "solution": true,
     "task": false
    },
    "tags": []
   },
   "outputs": [],
   "source": [
    "# t = ...\n",
    "# f = ...\n",
    "\n",
    "### BEGIN SOLUTION\n",
    "t = np.linspace(-2*np.pi, 2*np.pi, 45)\n",
    "f = np.sin(t)\n",
    "\n",
    "file_answer.write('7', t, 't es el dominio de la función y debe ...')\n",
    "file_answer.write('8', f, 'Para evaluar la función f(t) ...')\n",
    "\n",
    "file_answer.to_file('1') \n",
    "### END SOLUTION\n",
    "\n",
    "print(t)\n",
    "print(f)"
   ]
  },
  {
   "cell_type": "code",
   "execution_count": null,
   "id": "395ae389-94a3-4667-ad63-6306e05dece0",
   "metadata": {
    "nbgrader": {
     "grade": true,
     "grade_id": "cell-744d99f341e4d443",
     "locked": true,
     "points": 1,
     "schema_version": 3,
     "solution": false,
     "task": false
    }
   },
   "outputs": [],
   "source": [
    "quiz.eval_numeric('7', t)"
   ]
  },
  {
   "cell_type": "code",
   "execution_count": null,
   "id": "7ee3aa54-3031-4bd8-afa5-b4ac3073ee8a",
   "metadata": {
    "nbgrader": {
     "grade": true,
     "grade_id": "cell-53eb622c929b6b14",
     "locked": true,
     "points": 1,
     "schema_version": 3,
     "solution": false,
     "task": false
    }
   },
   "outputs": [],
   "source": [
    "quiz.eval_numeric('8', f)"
   ]
  },
  {
   "cell_type": "markdown",
   "id": "07528a7d-9390-4510-ba88-6504ee171a48",
   "metadata": {
    "nbgrader": {
     "grade": false,
     "grade_id": "cell-4f59744570122c83",
     "locked": true,
     "schema_version": 3,
     "solution": false,
     "task": false
    }
   },
   "source": [
    "Graficamos la función $f(t)$"
   ]
  },
  {
   "cell_type": "code",
   "execution_count": null,
   "id": "2162bbd6-9564-41dd-b084-97e3ca7b6ea0",
   "metadata": {
    "nbgrader": {
     "grade": false,
     "grade_id": "cell-6d94b61cde909e9a",
     "locked": true,
     "schema_version": 3,
     "solution": false,
     "task": false
    },
    "tags": []
   },
   "outputs": [],
   "source": [
    "v = mvis.Plotter(1,1,fig_par = dict(figsize = (6,3)))\n",
    "\n",
    "# Graficamos la función f(t)\n",
    "v.plot(1,t,f)\n",
    "\n",
    "# Definimos el sistema de coordenadas\n",
    "v.set_coordsys(1, xlabel='$t$', ylabel='$f(t)$', \n",
    "               xlabelsize=10, ylabelsize=10)\n",
    "\n",
    "# Obtenemos los ticks y los ponemos en términos de pi\n",
    "ax = v.axes(1)\n",
    "xticks = ax.get_xticks()\n",
    "yticks = ax.get_yticks()\n",
    "v.set_ticks(ax, xticks, yticks, PI=True)\n",
    "\n",
    "# Dibujamos la grid\n",
    "plt.grid()\n",
    "plt.show()"
   ]
  },
  {
   "cell_type": "markdown",
   "id": "6ed05ee4-f85c-43d3-ad63-98c0c4bd511b",
   "metadata": {
    "nbgrader": {
     "grade": false,
     "grade_id": "cell-0f8dad7aa6ff1b40",
     "locked": true,
     "schema_version": 3,
     "solution": false,
     "task": false
    }
   },
   "source": [
    "## Arreglos no numéricos (`eval_datastruct()`)\n",
    "<div class=\"alert alert-success\">\n",
    "\n",
    "## Ejercicio 3.\n",
    "\n",
    "Construye los siguientes arreglos:\n",
    "* `gabo = ['Gabriel', 'García', 'Márquez']`\n",
    "* `brit = ('Bridget', 'Bate', 'Tichenor')`\n",
    "* `empr = {'Apple':609, 'Broadcom':575, 'TSMC':456, 'Microsoft':329, 'Alphabet':315}`\n",
    "\n",
    "</div>\n"
   ]
  },
  {
   "cell_type": "code",
   "execution_count": null,
   "id": "fd5be8bb-7030-456e-874c-ac0657f94cc9",
   "metadata": {
    "nbgrader": {
     "grade": false,
     "grade_id": "cell-52a5aa3965b84001",
     "locked": false,
     "schema_version": 3,
     "solution": true,
     "task": false
    }
   },
   "outputs": [],
   "source": [
    "# gabo = ...\n",
    "# brit = ...\n",
    "# empr = ...\n",
    "# surr = ...\n",
    "\n",
    "### BEGIN SOLUTION\n",
    "gabo = ['Gabriel', 'García', 'Márquez']\n",
    "brit = ('Bridget', 'Bate', 'Tichenor')\n",
    "empr = {'Apple':609, 'Broadcom':575, 'TSMC':456, 'Microsoft':329, 'Alphabet':315}\n",
    "\n",
    "file_answer.write('9', gabo, 'La lista gabo está ...')\n",
    "file_answer.write('10', brit, 'La tupla brit ...')\n",
    "file_answer.write('11', empr, 'El diccionario empr ...')\n",
    "\n",
    "file_answer.to_file('1') \n",
    "### END SOLUTION\n",
    "\n",
    "print(gabo)\n",
    "print(brit)\n",
    "print(empr)"
   ]
  },
  {
   "cell_type": "code",
   "execution_count": null,
   "id": "e3c404f3-5165-4a41-92e5-a8798fae906e",
   "metadata": {
    "nbgrader": {
     "grade": true,
     "grade_id": "cell-125a29bc5eddc455",
     "locked": true,
     "points": 1,
     "schema_version": 3,
     "solution": false,
     "task": false
    }
   },
   "outputs": [],
   "source": [
    "quiz.eval_datastruct('9', gabo)"
   ]
  },
  {
   "cell_type": "code",
   "execution_count": null,
   "id": "ed8e681e-8624-42cb-8085-daf1b6551e34",
   "metadata": {
    "nbgrader": {
     "grade": true,
     "grade_id": "cell-873d5a215b00f5fb",
     "locked": true,
     "points": 1,
     "schema_version": 3,
     "solution": false,
     "task": false
    }
   },
   "outputs": [],
   "source": [
    "quiz.eval_datastruct('10', brit)"
   ]
  },
  {
   "cell_type": "code",
   "execution_count": null,
   "id": "e7cbf749-a1a7-4448-a3f7-03ce6cb2b36e",
   "metadata": {
    "nbgrader": {
     "grade": true,
     "grade_id": "cell-50df032364d7021c",
     "locked": true,
     "points": 1,
     "schema_version": 3,
     "solution": false,
     "task": false
    }
   },
   "outputs": [],
   "source": [
    "quiz.eval_dict('11', empr)"
   ]
  },
  {
   "cell_type": "markdown",
   "id": "d2ea69d8-7284-4e18-bb86-79c1230448ad",
   "metadata": {
    "nbgrader": {
     "grade": false,
     "grade_id": "cell-e092874c8be24cca",
     "locked": true,
     "schema_version": 3,
     "solution": false,
     "task": false
    }
   },
   "source": [
    "## Cálculo simbólico (`eval_expression()`)\n",
    "<div class=\"alert alert-success\">\n",
    "\n",
    "## Ejercicio 4.\n",
    "\n",
    "Calcula la derivada de la función $f(x) = x^2 \\sin(x)$. Escriba su respuesta en formato `sympy`.\n",
    "\n",
    "</div>"
   ]
  },
  {
   "cell_type": "code",
   "execution_count": null,
   "id": "836f0df5-6053-4423-b437-d2bce38952a4",
   "metadata": {
    "nbgrader": {
     "grade": false,
     "grade_id": "cell-e4e27bae51ee3fc6",
     "locked": false,
     "schema_version": 3,
     "solution": true,
     "task": false
    },
    "tags": []
   },
   "outputs": [],
   "source": [
    "# x = ...\n",
    "# derivada = ...\n",
    "\n",
    "### BEGIN SOLUTION\n",
    "x = sympy.Symbol('x')\n",
    "derivada = 2*x * sympy.sin(x) + x*x * sympy.cos(x)\n",
    "\n",
    "file_answer.write('12', str(derivada), 'Revisa las reglas de derivación.')\n",
    "\n",
    "file_answer.to_file('1') \n",
    "### END SOLUTION\n",
    "\n",
    "display(derivada)"
   ]
  },
  {
   "cell_type": "code",
   "execution_count": null,
   "id": "79dab3aa-4446-4baa-8b62-94b950e03445",
   "metadata": {
    "nbgrader": {
     "grade": true,
     "grade_id": "cell-3defddfe95525fd0",
     "locked": true,
     "points": 1,
     "schema_version": 3,
     "solution": false,
     "task": false
    }
   },
   "outputs": [],
   "source": [
    "quiz.eval_expression('12', derivada)"
   ]
  },
  {
   "cell_type": "markdown",
   "id": "039a74bb-a5e6-4e93-9fdf-fa08f3c0a0de",
   "metadata": {
    "nbgrader": {
     "grade": false,
     "grade_id": "cell-585d4e31f360b4ae",
     "locked": true,
     "schema_version": 3,
     "solution": false,
     "task": false
    }
   },
   "source": [
    "## Opción múltiple (`eval_option()`)\n",
    "<div class=\"alert alert-success\">\n",
    "\n",
    "## Ejercicio 5.\n",
    "\n",
    "<¿Qué fórmula representa la segunda Ley de Newton?.\n",
    "\n",
    "A. $F = m a$. <br>\n",
    "B. $E = m c^2$. <br>\n",
    "C. $A = \\pi * r^2$. <br>\n",
    "\n",
    "Escribe tu respuesta en la variable `respuesta = ...`\n",
    "\n",
    "</div>"
   ]
  },
  {
   "cell_type": "code",
   "execution_count": null,
   "id": "24b04198-531f-493e-84be-03c8e13aee51",
   "metadata": {
    "nbgrader": {
     "grade": false,
     "grade_id": "cell-821a4647cc4c3dca",
     "locked": false,
     "schema_version": 3,
     "solution": true,
     "task": false
    },
    "tags": []
   },
   "outputs": [],
   "source": [
    "# respuesta = ...\n",
    "\n",
    "### BEGIN SOLUTION\n",
    "respuesta = 'A'\n",
    "\n",
    "file_answer.write('13', respuesta, 'Tu respuesta {} es incorrecta'.format(respuesta))\n",
    "\n",
    "# Se guardan las respuestas en un archivo, una sola vez\n",
    "file_answer.to_file('1') \n",
    "### END SOLUTION\n",
    "\n",
    "print(respuesta)"
   ]
  },
  {
   "cell_type": "code",
   "execution_count": null,
   "id": "bec7aec1-c17a-436d-a8eb-3b01107d373e",
   "metadata": {
    "nbgrader": {
     "grade": true,
     "grade_id": "cell-7deaaa3ee9de9688",
     "locked": true,
     "points": 1,
     "schema_version": 3,
     "solution": false,
     "task": false
    }
   },
   "outputs": [],
   "source": [
    "quiz.eval_option('13', respuesta)"
   ]
  },
  {
   "cell_type": "code",
   "execution_count": null,
   "id": "a3389258-d73a-4fa0-b05b-356d0eba8caa",
   "metadata": {},
   "outputs": [],
   "source": []
  },
  {
   "cell_type": "code",
   "execution_count": null,
   "id": "ddffd68e-3682-4ec0-81f9-84bf2ca210a8",
   "metadata": {},
   "outputs": [],
   "source": []
  }
 ],
 "metadata": {
  "kernelspec": {
   "display_name": "Python 3 (ipykernel)",
   "language": "python",
   "name": "python3"
  },
  "language_info": {
   "codemirror_mode": {
    "name": "ipython",
    "version": 3
   },
   "file_extension": ".py",
   "mimetype": "text/x-python",
   "name": "python",
   "nbconvert_exporter": "python",
   "pygments_lexer": "ipython3",
   "version": "3.12.3"
  }
 },
 "nbformat": 4,
 "nbformat_minor": 5
}
